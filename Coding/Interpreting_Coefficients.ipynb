{
 "cells": [
  {
   "cell_type": "markdown",
   "id": "689af285",
   "metadata": {},
   "source": [
    "# Examples of Interpreting Coefficient Estimates in a Linear Regression\n",
    "Coding Author: *Ian He*\n",
    "\n",
    "Date: *Jul 12, 2023*\n",
    "\n",
    "Python Version: *3.11*\n",
    "\n",
    "Example source: *https://stats.oarc.ucla.edu/other/mult-pkg/faq/general/faqhow-do-i-interpret-a-regression-model-when-some-variables-are-log-transformed/*"
   ]
  },
  {
   "cell_type": "code",
   "execution_count": 1,
   "id": "3b61efd6",
   "metadata": {},
   "outputs": [],
   "source": [
    "import pandas as pd                    # for data handling\n",
    "import numpy as np                     # for numerical methods and data structures\n",
    "from scipy import stats                # for statistical functions, e.g., different mean functions\n",
    "import patsy                           # provides a syntax for specifying models  \n",
    "import statsmodels.api as sm           # provides models like OLS, GMM, ANOVA, etc.\n",
    "import statsmodels.formula.api as smf  # provides a way to directly specify models from formulas"
   ]
  },
  {
   "cell_type": "code",
   "execution_count": 2,
   "id": "a7f57318",
   "metadata": {},
   "outputs": [
    {
     "data": {
      "text/html": [
       "<div>\n",
       "<style scoped>\n",
       "    .dataframe tbody tr th:only-of-type {\n",
       "        vertical-align: middle;\n",
       "    }\n",
       "\n",
       "    .dataframe tbody tr th {\n",
       "        vertical-align: top;\n",
       "    }\n",
       "\n",
       "    .dataframe thead th {\n",
       "        text-align: right;\n",
       "    }\n",
       "</style>\n",
       "<table border=\"1\" class=\"dataframe\">\n",
       "  <thead>\n",
       "    <tr style=\"text-align: right;\">\n",
       "      <th></th>\n",
       "      <th>female</th>\n",
       "      <th>read</th>\n",
       "      <th>write</th>\n",
       "      <th>math</th>\n",
       "    </tr>\n",
       "  </thead>\n",
       "  <tbody>\n",
       "    <tr>\n",
       "      <th>0</th>\n",
       "      <td>male</td>\n",
       "      <td>57</td>\n",
       "      <td>52</td>\n",
       "      <td>41</td>\n",
       "    </tr>\n",
       "    <tr>\n",
       "      <th>1</th>\n",
       "      <td>female</td>\n",
       "      <td>68</td>\n",
       "      <td>59</td>\n",
       "      <td>53</td>\n",
       "    </tr>\n",
       "    <tr>\n",
       "      <th>2</th>\n",
       "      <td>male</td>\n",
       "      <td>44</td>\n",
       "      <td>33</td>\n",
       "      <td>54</td>\n",
       "    </tr>\n",
       "    <tr>\n",
       "      <th>3</th>\n",
       "      <td>male</td>\n",
       "      <td>63</td>\n",
       "      <td>44</td>\n",
       "      <td>47</td>\n",
       "    </tr>\n",
       "    <tr>\n",
       "      <th>4</th>\n",
       "      <td>male</td>\n",
       "      <td>47</td>\n",
       "      <td>52</td>\n",
       "      <td>57</td>\n",
       "    </tr>\n",
       "    <tr>\n",
       "      <th>...</th>\n",
       "      <td>...</td>\n",
       "      <td>...</td>\n",
       "      <td>...</td>\n",
       "      <td>...</td>\n",
       "    </tr>\n",
       "    <tr>\n",
       "      <th>195</th>\n",
       "      <td>female</td>\n",
       "      <td>55</td>\n",
       "      <td>59</td>\n",
       "      <td>52</td>\n",
       "    </tr>\n",
       "    <tr>\n",
       "      <th>196</th>\n",
       "      <td>female</td>\n",
       "      <td>42</td>\n",
       "      <td>46</td>\n",
       "      <td>38</td>\n",
       "    </tr>\n",
       "    <tr>\n",
       "      <th>197</th>\n",
       "      <td>female</td>\n",
       "      <td>57</td>\n",
       "      <td>41</td>\n",
       "      <td>57</td>\n",
       "    </tr>\n",
       "    <tr>\n",
       "      <th>198</th>\n",
       "      <td>female</td>\n",
       "      <td>55</td>\n",
       "      <td>62</td>\n",
       "      <td>58</td>\n",
       "    </tr>\n",
       "    <tr>\n",
       "      <th>199</th>\n",
       "      <td>female</td>\n",
       "      <td>63</td>\n",
       "      <td>65</td>\n",
       "      <td>65</td>\n",
       "    </tr>\n",
       "  </tbody>\n",
       "</table>\n",
       "<p>200 rows × 4 columns</p>\n",
       "</div>"
      ],
      "text/plain": [
       "     female  read  write  math\n",
       "0      male    57     52    41\n",
       "1    female    68     59    53\n",
       "2      male    44     33    54\n",
       "3      male    63     44    47\n",
       "4      male    47     52    57\n",
       "..      ...   ...    ...   ...\n",
       "195  female    55     59    52\n",
       "196  female    42     46    38\n",
       "197  female    57     41    57\n",
       "198  female    55     62    58\n",
       "199  female    63     65    65\n",
       "\n",
       "[200 rows x 4 columns]"
      ]
     },
     "execution_count": 2,
     "metadata": {},
     "output_type": "execute_result"
    }
   ],
   "source": [
    "logtrans = pd.read_csv('..\\\\Data\\\\lgtrans.csv')\n",
    "logtrans"
   ]
  },
  {
   "cell_type": "markdown",
   "id": "1f99f5b1",
   "metadata": {},
   "source": [
    "## Different types of means for `write` (our dependent variable)"
   ]
  },
  {
   "cell_type": "code",
   "execution_count": 3,
   "id": "f280d644",
   "metadata": {},
   "outputs": [
    {
     "name": "stdout",
     "output_type": "stream",
     "text": [
      "The arithmetic mean of writing scores is 52.775.\n",
      "The geometric mean of writing scores is 51.84959851260954.\n",
      "The harmonic mean of writing scores is 50.84403450478561.\n"
     ]
    }
   ],
   "source": [
    "print('The arithmetic mean of writing scores is ', np.mean(logtrans['write']), '.', sep='')\n",
    "print('The geometric mean of writing scores is ', stats.gmean(logtrans['write']), '.', sep='')\n",
    "print('The harmonic mean of writing scores is ', stats.hmean(logtrans['write']), '.', sep='')"
   ]
  },
  {
   "cell_type": "markdown",
   "id": "7eea47de",
   "metadata": {},
   "source": [
    "## Group means of `write` across genders"
   ]
  },
  {
   "cell_type": "code",
   "execution_count": 4,
   "id": "9017ce41",
   "metadata": {},
   "outputs": [
    {
     "name": "stdout",
     "output_type": "stream",
     "text": [
      "For males:\n",
      " The arithmetic mean of writing scores is 54.99082568807339;\n",
      " The geometric mean of writing scores is 54.343831217618856;\n",
      " The harmonic mean of writing scores is 53.642364007332986.\n",
      "\n",
      "For females:\n",
      " The arithmetic mean of writing scores is 50.120879120879124;\n",
      " The geometric mean of writing scores is 49.012224919302966;\n",
      " The harmonic mean of writing scores is 47.85388275552543.\n"
     ]
    }
   ],
   "source": [
    "print('For males:')\n",
    "print(' The arithmetic mean of writing scores is ', logtrans.groupby('female')['write'].mean()[0], ';', sep='')\n",
    "print(' The geometric mean of writing scores is ', logtrans.groupby('female')['write'].apply(stats.gmean)[0], ';', sep='')\n",
    "print(' The harmonic mean of writing scores is ', logtrans.groupby('female')['write'].apply(stats.hmean)[0], '.\\n', sep='')\n",
    "\n",
    "print('For females:')\n",
    "print(' The arithmetic mean of writing scores is ', logtrans.groupby('female')['write'].mean()[1], ';', sep='')\n",
    "print(' The geometric mean of writing scores is ', logtrans.groupby('female')['write'].apply(stats.gmean)[1], ';', sep='')\n",
    "print(' The harmonic mean of writing scores is ', logtrans.groupby('female')['write'].apply(stats.hmean)[1], '.', sep='')"
   ]
  },
  {
   "cell_type": "markdown",
   "id": "bce43405",
   "metadata": {},
   "source": [
    "## Generate a dummy indicating \"female\""
   ]
  },
  {
   "cell_type": "code",
   "execution_count": 5,
   "id": "0c561be2",
   "metadata": {},
   "outputs": [
    {
     "data": {
      "text/html": [
       "<div>\n",
       "<style scoped>\n",
       "    .dataframe tbody tr th:only-of-type {\n",
       "        vertical-align: middle;\n",
       "    }\n",
       "\n",
       "    .dataframe tbody tr th {\n",
       "        vertical-align: top;\n",
       "    }\n",
       "\n",
       "    .dataframe thead th {\n",
       "        text-align: right;\n",
       "    }\n",
       "</style>\n",
       "<table border=\"1\" class=\"dataframe\">\n",
       "  <thead>\n",
       "    <tr style=\"text-align: right;\">\n",
       "      <th></th>\n",
       "      <th>female</th>\n",
       "      <th>read</th>\n",
       "      <th>write</th>\n",
       "      <th>math</th>\n",
       "    </tr>\n",
       "  </thead>\n",
       "  <tbody>\n",
       "    <tr>\n",
       "      <th>0</th>\n",
       "      <td>0</td>\n",
       "      <td>57</td>\n",
       "      <td>52</td>\n",
       "      <td>41</td>\n",
       "    </tr>\n",
       "    <tr>\n",
       "      <th>1</th>\n",
       "      <td>1</td>\n",
       "      <td>68</td>\n",
       "      <td>59</td>\n",
       "      <td>53</td>\n",
       "    </tr>\n",
       "    <tr>\n",
       "      <th>2</th>\n",
       "      <td>0</td>\n",
       "      <td>44</td>\n",
       "      <td>33</td>\n",
       "      <td>54</td>\n",
       "    </tr>\n",
       "    <tr>\n",
       "      <th>3</th>\n",
       "      <td>0</td>\n",
       "      <td>63</td>\n",
       "      <td>44</td>\n",
       "      <td>47</td>\n",
       "    </tr>\n",
       "    <tr>\n",
       "      <th>4</th>\n",
       "      <td>0</td>\n",
       "      <td>47</td>\n",
       "      <td>52</td>\n",
       "      <td>57</td>\n",
       "    </tr>\n",
       "    <tr>\n",
       "      <th>...</th>\n",
       "      <td>...</td>\n",
       "      <td>...</td>\n",
       "      <td>...</td>\n",
       "      <td>...</td>\n",
       "    </tr>\n",
       "    <tr>\n",
       "      <th>195</th>\n",
       "      <td>1</td>\n",
       "      <td>55</td>\n",
       "      <td>59</td>\n",
       "      <td>52</td>\n",
       "    </tr>\n",
       "    <tr>\n",
       "      <th>196</th>\n",
       "      <td>1</td>\n",
       "      <td>42</td>\n",
       "      <td>46</td>\n",
       "      <td>38</td>\n",
       "    </tr>\n",
       "    <tr>\n",
       "      <th>197</th>\n",
       "      <td>1</td>\n",
       "      <td>57</td>\n",
       "      <td>41</td>\n",
       "      <td>57</td>\n",
       "    </tr>\n",
       "    <tr>\n",
       "      <th>198</th>\n",
       "      <td>1</td>\n",
       "      <td>55</td>\n",
       "      <td>62</td>\n",
       "      <td>58</td>\n",
       "    </tr>\n",
       "    <tr>\n",
       "      <th>199</th>\n",
       "      <td>1</td>\n",
       "      <td>63</td>\n",
       "      <td>65</td>\n",
       "      <td>65</td>\n",
       "    </tr>\n",
       "  </tbody>\n",
       "</table>\n",
       "<p>200 rows × 4 columns</p>\n",
       "</div>"
      ],
      "text/plain": [
       "     female  read  write  math\n",
       "0         0    57     52    41\n",
       "1         1    68     59    53\n",
       "2         0    44     33    54\n",
       "3         0    63     44    47\n",
       "4         0    47     52    57\n",
       "..      ...   ...    ...   ...\n",
       "195       1    55     59    52\n",
       "196       1    42     46    38\n",
       "197       1    57     41    57\n",
       "198       1    55     62    58\n",
       "199       1    63     65    65\n",
       "\n",
       "[200 rows x 4 columns]"
      ]
     },
     "execution_count": 5,
     "metadata": {},
     "output_type": "execute_result"
    }
   ],
   "source": [
    "logtrans['female'] = pd.get_dummies(logtrans['female'])['female']\n",
    "logtrans"
   ]
  },
  {
   "cell_type": "markdown",
   "id": "3cb2df57",
   "metadata": {},
   "source": [
    "## When dependent variable is log transformed"
   ]
  },
  {
   "cell_type": "markdown",
   "id": "ce354c26",
   "metadata": {},
   "source": [
    "We start with an intercept-only model:\n",
    "$$\\ln({\\rm write}) = \\beta_0 + e_i$$"
   ]
  },
  {
   "cell_type": "code",
   "execution_count": 6,
   "id": "8500ef3d",
   "metadata": {},
   "outputs": [
    {
     "name": "stdout",
     "output_type": "stream",
     "text": [
      "                            OLS Regression Results                            \n",
      "==============================================================================\n",
      "Dep. Variable:          np.log(write)   R-squared:                       0.000\n",
      "Model:                            OLS   Adj. R-squared:                  0.000\n",
      "Method:                 Least Squares   F-statistic:                       nan\n",
      "Date:                Wed, 12 Jul 2023   Prob (F-statistic):                nan\n",
      "Time:                        08:09:53   Log-Likelihood:                 45.093\n",
      "No. Observations:                 200   AIC:                            -88.19\n",
      "Df Residuals:                     199   BIC:                            -84.89\n",
      "Df Model:                           0                                         \n",
      "Covariance Type:            nonrobust                                         \n",
      "==============================================================================\n",
      "                 coef    std err          t      P>|t|      [0.025      0.975]\n",
      "------------------------------------------------------------------------------\n",
      "Intercept      3.9483      0.014    288.402      0.000       3.921       3.975\n",
      "==============================================================================\n",
      "Omnibus:                       18.199   Durbin-Watson:                   1.753\n",
      "Prob(Omnibus):                  0.000   Jarque-Bera (JB):               21.353\n",
      "Skew:                          -0.794   Prob(JB):                     2.31e-05\n",
      "Kurtosis:                       2.804   Cond. No.                         1.00\n",
      "==============================================================================\n",
      "\n",
      "Notes:\n",
      "[1] Standard Errors assume that the covariance matrix of the errors is correctly specified.\n"
     ]
    }
   ],
   "source": [
    "lgmodel1 = smf.ols('np.log(write) ~ 1', data=logtrans).fit()\n",
    "print(lgmodel1.summary())"
   ]
  },
  {
   "cell_type": "markdown",
   "id": "a8404fd5",
   "metadata": {},
   "source": [
    "The exponentiated value of $\\hat{\\beta}_0$ is equal to the **geometric mean** of `write`."
   ]
  },
  {
   "cell_type": "code",
   "execution_count": 7,
   "id": "4cae9bac",
   "metadata": {},
   "outputs": [
    {
     "data": {
      "text/plain": [
       "Intercept    51.849599\n",
       "dtype: float64"
      ]
     },
     "execution_count": 7,
     "metadata": {},
     "output_type": "execute_result"
    }
   ],
   "source": [
    "np.exp(lgmodel1.params)"
   ]
  },
  {
   "cell_type": "markdown",
   "id": "c13c2041",
   "metadata": {},
   "source": [
    "Next, let's turn to a model with a single binary variable:\n",
    "$$\\ln({\\rm write}) = \\beta_0 + \\beta_1 \\cdot {\\rm female} + e_i$$"
   ]
  },
  {
   "cell_type": "code",
   "execution_count": 8,
   "id": "e5b2b262",
   "metadata": {},
   "outputs": [
    {
     "name": "stdout",
     "output_type": "stream",
     "text": [
      "                            OLS Regression Results                            \n",
      "==============================================================================\n",
      "Dep. Variable:          np.log(write)   R-squared:                       0.071\n",
      "Model:                            OLS   Adj. R-squared:                  0.066\n",
      "Method:                 Least Squares   F-statistic:                     15.11\n",
      "Date:                Wed, 12 Jul 2023   Prob (F-statistic):           0.000139\n",
      "Time:                        08:09:53   Log-Likelihood:                 52.446\n",
      "No. Observations:                 200   AIC:                            -100.9\n",
      "Df Residuals:                     198   BIC:                            -94.30\n",
      "Df Model:                           1                                         \n",
      "Covariance Type:            nonrobust                                         \n",
      "==============================================================================\n",
      "                 coef    std err          t      P>|t|      [0.025      0.975]\n",
      "------------------------------------------------------------------------------\n",
      "Intercept      3.8921      0.020    198.446      0.000       3.853       3.931\n",
      "female         0.1033      0.027      3.887      0.000       0.051       0.156\n",
      "==============================================================================\n",
      "Omnibus:                       13.032   Durbin-Watson:                   1.864\n",
      "Prob(Omnibus):                  0.001   Jarque-Bera (JB):               14.046\n",
      "Skew:                          -0.626   Prob(JB):                     0.000891\n",
      "Kurtosis:                       2.655   Cond. No.                         2.74\n",
      "==============================================================================\n",
      "\n",
      "Notes:\n",
      "[1] Standard Errors assume that the covariance matrix of the errors is correctly specified.\n"
     ]
    }
   ],
   "source": [
    "lgmodel2 = smf.ols('np.log(write) ~ female', data=logtrans).fit()\n",
    "print(lgmodel2.summary())"
   ]
  },
  {
   "cell_type": "markdown",
   "id": "32b0f33e",
   "metadata": {},
   "source": [
    "The exponentiated value of $\\hat{\\beta}_0$ is equal to the **geometric mean** for the **male** group's writing scores."
   ]
  },
  {
   "cell_type": "code",
   "execution_count": 9,
   "id": "6a058ba2",
   "metadata": {},
   "outputs": [
    {
     "data": {
      "text/plain": [
       "49.01222491930301"
      ]
     },
     "execution_count": 9,
     "metadata": {},
     "output_type": "execute_result"
    }
   ],
   "source": [
    "np.exp(lgmodel2.params[0])"
   ]
  },
  {
   "cell_type": "markdown",
   "id": "470a9f15",
   "metadata": {},
   "source": [
    "For $\\hat{\\beta}_1$, it can be interpreted using the following formula:\n",
    "$$\\left[\\exp\\left(\\hat{\\beta}_1 \\times \\Delta\\right) - 1\\right] \\times 100\\%$$"
   ]
  },
  {
   "cell_type": "code",
   "execution_count": 10,
   "id": "3dc2bf47",
   "metadata": {},
   "outputs": [
    {
     "name": "stdout",
     "output_type": "stream",
     "text": [
      "Switching from male students to female students, we expect to see an about 10.88% increase in the geometric mean of writing scores.\n"
     ]
    }
   ],
   "source": [
    "print('Switching from male students to female students, we expect to see an about ', round((np.exp(lgmodel2.params[1])-1)*100, 2), '% increase in the geometric mean of writing scores.', sep='')"
   ]
  },
  {
   "cell_type": "markdown",
   "id": "8aa09db8",
   "metadata": {},
   "source": [
    "Finally, let's see a longer model with multiple regressors:\n",
    "$$\\ln({\\rm write}) = \\beta_0 + \\beta_1 \\cdot {\\rm female} + \\beta_2 \\cdot {\\rm read} + \\beta_3 \\cdot {\\rm math} + e_i$$"
   ]
  },
  {
   "cell_type": "code",
   "execution_count": 11,
   "id": "e28dbc40",
   "metadata": {},
   "outputs": [
    {
     "name": "stdout",
     "output_type": "stream",
     "text": [
      "                            OLS Regression Results                            \n",
      "==============================================================================\n",
      "Dep. Variable:          np.log(write)   R-squared:                       0.504\n",
      "Model:                            OLS   Adj. R-squared:                  0.497\n",
      "Method:                 Least Squares   F-statistic:                     66.44\n",
      "Date:                Wed, 12 Jul 2023   Prob (F-statistic):           1.11e-29\n",
      "Time:                        08:09:53   Log-Likelihood:                 115.25\n",
      "No. Observations:                 200   AIC:                            -222.5\n",
      "Df Residuals:                     196   BIC:                            -209.3\n",
      "Df Model:                           3                                         \n",
      "Covariance Type:            nonrobust                                         \n",
      "==============================================================================\n",
      "                 coef    std err          t      P>|t|      [0.025      0.975]\n",
      "------------------------------------------------------------------------------\n",
      "Intercept      3.1352      0.060     52.419      0.000       3.017       3.253\n",
      "female         0.1147      0.020      5.873      0.000       0.076       0.153\n",
      "read           0.0066      0.001      5.225      0.000       0.004       0.009\n",
      "math           0.0077      0.001      5.535      0.000       0.005       0.010\n",
      "==============================================================================\n",
      "Omnibus:                        7.209   Durbin-Watson:                   1.940\n",
      "Prob(Omnibus):                  0.027   Jarque-Bera (JB):                7.099\n",
      "Skew:                          -0.457   Prob(JB):                       0.0287\n",
      "Kurtosis:                       3.128   Cond. No.                         465.\n",
      "==============================================================================\n",
      "\n",
      "Notes:\n",
      "[1] Standard Errors assume that the covariance matrix of the errors is correctly specified.\n"
     ]
    }
   ],
   "source": [
    "lgmodel3 = smf.ols('np.log(write) ~ female + read + math', data=logtrans).fit()\n",
    "print(lgmodel3.summary())"
   ]
  },
  {
   "cell_type": "markdown",
   "id": "72c1aeeb",
   "metadata": {},
   "source": [
    "When all other variables are held at some fixed value,\n",
    "* writing scores will be **12.16%** higher for the female students than for the male students;\n",
    "* with a one-unit increase in `read`, we expect to see a **0.67%** increase in writing score;\n",
    "* with a ten-unit increase in `read`, we expect to see a **6.86%** increase in writing score."
   ]
  },
  {
   "cell_type": "code",
   "execution_count": 12,
   "id": "ff004b66",
   "metadata": {},
   "outputs": [
    {
     "data": {
      "text/plain": [
       "12.16"
      ]
     },
     "execution_count": 12,
     "metadata": {},
     "output_type": "execute_result"
    }
   ],
   "source": [
    "round((np.exp(lgmodel3.params[1])-1)*100, 2)"
   ]
  },
  {
   "cell_type": "code",
   "execution_count": 13,
   "id": "0e236b29",
   "metadata": {},
   "outputs": [
    {
     "data": {
      "text/plain": [
       "0.67"
      ]
     },
     "execution_count": 13,
     "metadata": {},
     "output_type": "execute_result"
    }
   ],
   "source": [
    "round((np.exp(lgmodel3.params[2])-1)*100, 2)"
   ]
  },
  {
   "cell_type": "code",
   "execution_count": 14,
   "id": "cf3b9888",
   "metadata": {},
   "outputs": [
    {
     "data": {
      "text/plain": [
       "6.86"
      ]
     },
     "execution_count": 14,
     "metadata": {},
     "output_type": "execute_result"
    }
   ],
   "source": [
    "round((np.exp(lgmodel3.params[2]*10)-1)*100, 2)"
   ]
  },
  {
   "cell_type": "markdown",
   "id": "ad102b89",
   "metadata": {},
   "source": [
    "## When some independent variables are log transformed\n",
    "Our model is\n",
    "$${\\rm write} = \\beta_0 + \\beta_1 \\cdot {\\rm female} + \\beta_2 \\cdot \\ln({\\rm read}) + \\beta_3 \\cdot \\ln({\\rm math}) + e_i$$"
   ]
  },
  {
   "cell_type": "code",
   "execution_count": 15,
   "id": "09aa906a",
   "metadata": {},
   "outputs": [
    {
     "name": "stdout",
     "output_type": "stream",
     "text": [
      "                            OLS Regression Results                            \n",
      "==============================================================================\n",
      "Dep. Variable:                  write   R-squared:                       0.530\n",
      "Model:                            OLS   Adj. R-squared:                  0.523\n",
      "Method:                 Least Squares   F-statistic:                     73.70\n",
      "Date:                Wed, 12 Jul 2023   Prob (F-statistic):           5.92e-32\n",
      "Time:                        08:09:53   Log-Likelihood:                -657.58\n",
      "No. Observations:                 200   AIC:                             1323.\n",
      "Df Residuals:                     196   BIC:                             1336.\n",
      "Df Model:                           3                                         \n",
      "Covariance Type:            nonrobust                                         \n",
      "================================================================================\n",
      "                   coef    std err          t      P>|t|      [0.025      0.975]\n",
      "--------------------------------------------------------------------------------\n",
      "Intercept      -99.1640     10.804     -9.178      0.000    -120.471     -77.857\n",
      "female           5.3888      0.931      5.789      0.000       3.553       7.224\n",
      "np.log(read)    16.8522      3.063      5.501      0.000      10.811      22.894\n",
      "np.log(math)    20.9410      3.431      6.104      0.000      14.175      27.707\n",
      "==============================================================================\n",
      "Omnibus:                        2.259   Durbin-Watson:                   1.999\n",
      "Prob(Omnibus):                  0.323   Jarque-Bera (JB):                2.286\n",
      "Skew:                          -0.253   Prob(JB):                        0.319\n",
      "Kurtosis:                       2.866   Cond. No.                         135.\n",
      "==============================================================================\n",
      "\n",
      "Notes:\n",
      "[1] Standard Errors assume that the covariance matrix of the errors is correctly specified.\n"
     ]
    }
   ],
   "source": [
    "lgmodel4 = smf.ols('write ~ female + np.log(read) + np.log(math)', data=logtrans).fit()\n",
    "print(lgmodel4.summary())"
   ]
  },
  {
   "cell_type": "markdown",
   "id": "41e3c464",
   "metadata": {},
   "source": [
    "Holding all other indenpendent variables constant,\n",
    "* the expected mean difference in writing scores between the female and male groups is about **5.39 points**;\n",
    "* for a **1%** increase in reading score, the difference in the expected mean writing scores will be **0.17 points**;\n",
    "* for a **10%** increase in reading score, the difference in the expected mean writing scores will be **1.61 points**.\n",
    "\n",
    "In interpreting $\\hat{\\beta}_2$, the formula used is\n",
    "$$\\hat{\\beta}_2 \\times \\ln(1+\\Delta\\%)$$"
   ]
  },
  {
   "cell_type": "code",
   "execution_count": 16,
   "id": "a8835b02",
   "metadata": {},
   "outputs": [
    {
     "data": {
      "text/plain": [
       "5.39"
      ]
     },
     "execution_count": 16,
     "metadata": {},
     "output_type": "execute_result"
    }
   ],
   "source": [
    "round(lgmodel4.params[1], 2)"
   ]
  },
  {
   "cell_type": "code",
   "execution_count": 17,
   "id": "e17384a7",
   "metadata": {},
   "outputs": [
    {
     "data": {
      "text/plain": [
       "0.17"
      ]
     },
     "execution_count": 17,
     "metadata": {},
     "output_type": "execute_result"
    }
   ],
   "source": [
    "round(lgmodel4.params[2]*np.log(1+0.01), 2)"
   ]
  },
  {
   "cell_type": "code",
   "execution_count": 18,
   "id": "52294b08",
   "metadata": {},
   "outputs": [
    {
     "data": {
      "text/plain": [
       "1.61"
      ]
     },
     "execution_count": 18,
     "metadata": {},
     "output_type": "execute_result"
    }
   ],
   "source": [
    "round(lgmodel4.params[2]*np.log(1+0.1), 2)"
   ]
  },
  {
   "cell_type": "markdown",
   "id": "d66d1c15",
   "metadata": {},
   "source": [
    "## When both dependent variable and some independent variables are log transformed\n",
    "Our model is\n",
    "$$\\ln({\\rm write}) = \\beta_0 + \\beta_1 \\cdot {\\rm female} + \\beta_2 \\cdot {\\rm read} + \\beta_3 \\cdot \\ln({\\rm math}) + e_i$$"
   ]
  },
  {
   "cell_type": "code",
   "execution_count": 19,
   "id": "6d1c2dd8",
   "metadata": {},
   "outputs": [
    {
     "name": "stdout",
     "output_type": "stream",
     "text": [
      "                            OLS Regression Results                            \n",
      "==============================================================================\n",
      "Dep. Variable:          np.log(write)   R-squared:                       0.507\n",
      "Model:                            OLS   Adj. R-squared:                  0.500\n",
      "Method:                 Least Squares   F-statistic:                     67.30\n",
      "Date:                Wed, 12 Jul 2023   Prob (F-statistic):           5.85e-30\n",
      "Time:                        08:09:53   Log-Likelihood:                 115.90\n",
      "No. Observations:                 200   AIC:                            -223.8\n",
      "Df Residuals:                     196   BIC:                            -210.6\n",
      "Df Model:                           3                                         \n",
      "Covariance Type:            nonrobust                                         \n",
      "================================================================================\n",
      "                   coef    std err          t      P>|t|      [0.025      0.975]\n",
      "--------------------------------------------------------------------------------\n",
      "Intercept        1.9281      0.247      7.808      0.000       1.441       2.415\n",
      "female           0.1142      0.019      5.867      0.000       0.076       0.153\n",
      "read             0.0066      0.001      5.261      0.000       0.004       0.009\n",
      "np.log(math)     0.4085      0.072      5.668      0.000       0.266       0.551\n",
      "==============================================================================\n",
      "Omnibus:                        8.077   Durbin-Watson:                   1.941\n",
      "Prob(Omnibus):                  0.018   Jarque-Bera (JB):                7.967\n",
      "Skew:                          -0.479   Prob(JB):                       0.0186\n",
      "Kurtosis:                       3.200   Cond. No.                     1.42e+03\n",
      "==============================================================================\n",
      "\n",
      "Notes:\n",
      "[1] Standard Errors assume that the covariance matrix of the errors is correctly specified.\n",
      "[2] The condition number is large, 1.42e+03. This might indicate that there are\n",
      "strong multicollinearity or other numerical problems.\n"
     ]
    }
   ],
   "source": [
    "lgmodel5 = smf.ols('np.log(write) ~ female + read + np.log(math)', data=logtrans).fit()\n",
    "print(lgmodel5.summary())"
   ]
  },
  {
   "cell_type": "markdown",
   "id": "14afed36",
   "metadata": {},
   "source": [
    "Holding all other variables constant,\n",
    "* the expected percent increase in geometric mean from male group to female group is about **12.10%**;\n",
    "* for a **one-unit** increase in reading score, we expect to see a **0.66%** increase in the geometric mean of writing score;\n",
    "* for a **1%** increase in math score, we expect to see a **0.41%** increase in writing score;\n",
    "* for a **10%** increase in math score, we expect to see a **3.97%** increase in writing score.\n",
    "\n",
    "In interpreting $\\hat{\\beta}_3$, the formula used is\n",
    "$$\\left[(1+\\Delta\\%)^{\\hat{\\beta}_3} - 1\\right] \\times 100\\%$$"
   ]
  },
  {
   "cell_type": "code",
   "execution_count": 20,
   "id": "60a9b90b",
   "metadata": {},
   "outputs": [
    {
     "data": {
      "text/plain": [
       "12.1"
      ]
     },
     "execution_count": 20,
     "metadata": {},
     "output_type": "execute_result"
    }
   ],
   "source": [
    "round((np.exp(lgmodel5.params[1])-1)*100, 2)"
   ]
  },
  {
   "cell_type": "code",
   "execution_count": 21,
   "id": "815b404a",
   "metadata": {},
   "outputs": [
    {
     "data": {
      "text/plain": [
       "0.66"
      ]
     },
     "execution_count": 21,
     "metadata": {},
     "output_type": "execute_result"
    }
   ],
   "source": [
    "round((np.exp(lgmodel5.params[2])-1)*100, 2)"
   ]
  },
  {
   "cell_type": "code",
   "execution_count": 22,
   "id": "40df98c2",
   "metadata": {},
   "outputs": [
    {
     "data": {
      "text/plain": [
       "0.41"
      ]
     },
     "execution_count": 22,
     "metadata": {},
     "output_type": "execute_result"
    }
   ],
   "source": [
    "round(((1+0.01)**lgmodel5.params[3]-1)*100, 2)    # Python uses \"**\" (instead of \"^\") for to raise a value to a power."
   ]
  },
  {
   "cell_type": "code",
   "execution_count": 23,
   "id": "2cee0ce4",
   "metadata": {},
   "outputs": [
    {
     "data": {
      "text/plain": [
       "3.97"
      ]
     },
     "execution_count": 23,
     "metadata": {},
     "output_type": "execute_result"
    }
   ],
   "source": [
    "round(((1+0.1)**lgmodel5.params[3]-1)*100, 2)"
   ]
  }
 ],
 "metadata": {
  "kernelspec": {
   "display_name": "Python 3 (ipykernel)",
   "language": "python",
   "name": "python3"
  },
  "language_info": {
   "codemirror_mode": {
    "name": "ipython",
    "version": 3
   },
   "file_extension": ".py",
   "mimetype": "text/x-python",
   "name": "python",
   "nbconvert_exporter": "python",
   "pygments_lexer": "ipython3",
   "version": "3.10.9"
  }
 },
 "nbformat": 4,
 "nbformat_minor": 5
}
