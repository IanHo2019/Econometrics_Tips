{
 "cells": [
  {
   "cell_type": "markdown",
   "id": "528f718c",
   "metadata": {},
   "source": [
    "# Moments of a Distribution\n",
    "**Author:** Ian Ho | **Date:** Aug 25, 2023 | **Python Version:** 3.11\n",
    "\n",
    "**Note:** To run this coding file, please install the Python package `pandas_datareader` by running the following command at your Anaconda prompt.\n",
    "```\n",
    "pip install pandas_datareader\n",
    "```"
   ]
  },
  {
   "cell_type": "code",
   "execution_count": 1,
   "id": "929a1dd6",
   "metadata": {},
   "outputs": [],
   "source": [
    "import numpy as np                    # for numerical methods\n",
    "import pandas as pd                   # for data handling\n",
    "import pandas_datareader.data as web  # for grabbing data from some websites\n",
    "import scipy.stats as stats           # for statistical functions\n",
    "import matplotlib.pyplot as plt       # for plotting"
   ]
  },
  {
   "cell_type": "markdown",
   "id": "b26fa387",
   "metadata": {},
   "source": [
    "## Calculate Moments of a Self-Created Distribution"
   ]
  },
  {
   "cell_type": "code",
   "execution_count": 2,
   "id": "41a791ef",
   "metadata": {},
   "outputs": [
    {
     "data": {
      "text/html": [
       "<div>\n",
       "<style scoped>\n",
       "    .dataframe tbody tr th:only-of-type {\n",
       "        vertical-align: middle;\n",
       "    }\n",
       "\n",
       "    .dataframe tbody tr th {\n",
       "        vertical-align: top;\n",
       "    }\n",
       "\n",
       "    .dataframe thead th {\n",
       "        text-align: right;\n",
       "    }\n",
       "</style>\n",
       "<table border=\"1\" class=\"dataframe\">\n",
       "  <thead>\n",
       "    <tr style=\"text-align: right;\">\n",
       "      <th></th>\n",
       "      <th>X</th>\n",
       "      <th>Pr</th>\n",
       "    </tr>\n",
       "  </thead>\n",
       "  <tbody>\n",
       "    <tr>\n",
       "      <th>0</th>\n",
       "      <td>1</td>\n",
       "      <td>0.2</td>\n",
       "    </tr>\n",
       "    <tr>\n",
       "      <th>1</th>\n",
       "      <td>2</td>\n",
       "      <td>0.3</td>\n",
       "    </tr>\n",
       "    <tr>\n",
       "      <th>2</th>\n",
       "      <td>3</td>\n",
       "      <td>0.4</td>\n",
       "    </tr>\n",
       "    <tr>\n",
       "      <th>3</th>\n",
       "      <td>4</td>\n",
       "      <td>0.1</td>\n",
       "    </tr>\n",
       "  </tbody>\n",
       "</table>\n",
       "</div>"
      ],
      "text/plain": [
       "   X   Pr\n",
       "0  1  0.2\n",
       "1  2  0.3\n",
       "2  3  0.4\n",
       "3  4  0.1"
      ]
     },
     "execution_count": 2,
     "metadata": {},
     "output_type": "execute_result"
    }
   ],
   "source": [
    "df = pd.DataFrame({'X':  [1,     2,   3,   4],\n",
    "                   'Pr': [0.2, 0.3, 0.4, 0.1]})\n",
    "df"
   ]
  },
  {
   "cell_type": "code",
   "execution_count": 3,
   "id": "bcbcca0c",
   "metadata": {},
   "outputs": [
    {
     "data": {
      "image/png": "[encoded data removed]",
      "text/plain": [
       "<Figure size 1000x500 with 1 Axes>"
      ]
     },
     "metadata": {},
     "output_type": "display_data"
    }
   ],
   "source": [
    "# We can also observe the distribution in a plot.\n",
    "fig, ax = plt.subplots(figsize=(10,5))    # specify figure size\n",
    "\n",
    "ax.bar(df['X'], df['Pr'], color='blue', alpha=0.45, width=0.5)\n",
    "\n",
    "ax.grid(axis='y', color='white')          # add grid lines\n",
    "\n",
    "ax.set_xlabel('X')                        # customize the labels on axes\n",
    "ax.set_ylabel('PMF')\n",
    "\n",
    "plt.xticks(range(1, 5))                   # customize the ticks on axes\n",
    "plt.yticks(np.arange(0, 0.5, 0.1))\n",
    "\n",
    "ax.spines['right'].set_visible(False)     # get rid of the line on the right\n",
    "ax.spines['top'].set_visible(False)       # get rid of the line on the top"
   ]
  },
  {
   "cell_type": "markdown",
   "id": "15ad8394",
   "metadata": {},
   "source": [
    "First, let's calculate the **mean (1st raw moment)** of $X$:\n",
    "$$\\mu_X = E(X) = \\sum_{i=0}^3 x_i \\cdot Pr(X = x_i)$$"
   ]
  },
  {
   "cell_type": "code",
   "execution_count": 4,
   "id": "f6ee7c89",
   "metadata": {},
   "outputs": [
    {
     "name": "stdout",
     "output_type": "stream",
     "text": [
      "The mean of X is 2.4000.\n"
     ]
    }
   ],
   "source": [
    "X_Pr = df['X'] * df['Pr']\n",
    "mean = sum(X_Pr)\n",
    "\n",
    "print('The mean of X is {0:5.4f}.'.format(mean))"
   ]
  },
  {
   "cell_type": "markdown",
   "id": "42ba28cb",
   "metadata": {},
   "source": [
    "Second, calculate the **variance (2nd central moment)** of $X$:\n",
    "$$\\sigma_X^2 = Var(X) = \\sum_{i=0}^3 (x_i - \\mu_X)^2 \\cdot Pr(X=x_i)$$"
   ]
  },
  {
   "cell_type": "code",
   "execution_count": 5,
   "id": "c4ead0b6",
   "metadata": {},
   "outputs": [
    {
     "name": "stdout",
     "output_type": "stream",
     "text": [
      "The variance of X is 0.8400.\n"
     ]
    }
   ],
   "source": [
    "dev2 = (df['X'] - mean)**2    # Alert: Python use ** as exponent operator, instead of ^.\n",
    "dev2_Pr= dev2 * df['Pr']\n",
    "variance = sum(dev2_Pr)\n",
    "\n",
    "std_dev = np.sqrt(variance)\n",
    "\n",
    "print('The variance of X is {0:5.4f}.'.format(variance))"
   ]
  },
  {
   "cell_type": "markdown",
   "id": "80912b3c",
   "metadata": {},
   "source": [
    "Third, calculate the **skewness (3rd standardized moment)** of $X$:\n",
    "$$Skew(X) = \\frac{1}{\\sigma_X^3} \\sum_{i=0}^3 (x_i - \\mu_X)^3 \\cdot Pr(X = x_i)$$"
   ]
  },
  {
   "cell_type": "code",
   "execution_count": 6,
   "id": "b994017a",
   "metadata": {},
   "outputs": [
    {
     "name": "stdout",
     "output_type": "stream",
     "text": [
      "The skewness of X is -0.0935.\n",
      "The distribution of X is left-skewed.\n"
     ]
    }
   ],
   "source": [
    "dev3 = (df['X'] - mean)**3\n",
    "dev3_Pr= dev3 * df['Pr']\n",
    "skew = sum(dev3_Pr) / (std_dev**3)\n",
    "\n",
    "print('The skewness of X is {0:5.4f}.'.format(skew))\n",
    "\n",
    "if skew < 0:\n",
    "    print('The distribution of X is left-skewed.')\n",
    "elif skew > 0:\n",
    "    print('The distribution of X is right-skewed.')\n",
    "else:\n",
    "    print('The distribution of X is symmetric.')"
   ]
  },
  {
   "cell_type": "markdown",
   "id": "7c1e1616",
   "metadata": {},
   "source": [
    "Third, calculate the **kurtosis (4th standardized moment)** of $X$:\n",
    "$$Kurt(X) = \\frac{1}{\\sigma_X^4} \\sum_{i=0}^3 (x_i - \\mu_X)^4 \\cdot Pr(X = x_i)$$\n",
    "and excess kurtosis: $Kurt(X) - 3$."
   ]
  },
  {
   "cell_type": "code",
   "execution_count": 7,
   "id": "9a9411c5",
   "metadata": {},
   "outputs": [
    {
     "name": "stdout",
     "output_type": "stream",
     "text": [
      "The kurtosis of X is 2.1020 and the excess kurtosis is -0.8980.\n",
      "The distribution of X is platykurtic.\n"
     ]
    }
   ],
   "source": [
    "dev4 = (df['X'] - mean)**4\n",
    "dev4_Pr= dev4 * df['Pr']\n",
    "kurt = sum(dev4_Pr) / (std_dev**4)\n",
    "\n",
    "excess_kurt = kurt - 3\n",
    "\n",
    "print('The kurtosis of X is {0:5.4f} and the excess kurtosis is {1:5.4f}.'.format(kurt, excess_kurt))\n",
    "\n",
    "if excess_kurt < 0:\n",
    "    print('The distribution of X is platykurtic.')\n",
    "elif excess_kurt > 0:\n",
    "    print('The distribution of X is leptokurtic.')\n",
    "else:\n",
    "    print('The distribution of X is mesokurtic.')"
   ]
  },
  {
   "cell_type": "markdown",
   "id": "b4a50b7a",
   "metadata": {},
   "source": [
    "## Calculate (Sample) Moments from a Real-World Data\n",
    "[Stooq](https://stooq.com) provides historical pricing for indexes, and these data can be grabbed easily through the functions in the `pandas_datareader` package. In the following, we will use the data for the S\\&P 500 Index (whose Stooq symbol is `^SPX`) in 2020 as an example."
   ]
  },
  {
   "cell_type": "code",
   "execution_count": 8,
   "id": "d7c32467",
   "metadata": {},
   "outputs": [
    {
     "data": {
      "text/html": [
       "<div>\n",
       "<style scoped>\n",
       "    .dataframe tbody tr th:only-of-type {\n",
       "        vertical-align: middle;\n",
       "    }\n",
       "\n",
       "    .dataframe tbody tr th {\n",
       "        vertical-align: top;\n",
       "    }\n",
       "\n",
       "    .dataframe thead th {\n",
       "        text-align: right;\n",
       "    }\n",
       "</style>\n",
       "<table border=\"1\" class=\"dataframe\">\n",
       "  <thead>\n",
       "    <tr style=\"text-align: right;\">\n",
       "      <th></th>\n",
       "      <th>Open</th>\n",
       "      <th>High</th>\n",
       "      <th>Low</th>\n",
       "      <th>Close</th>\n",
       "      <th>Volume</th>\n",
       "    </tr>\n",
       "    <tr>\n",
       "      <th>Date</th>\n",
       "      <th></th>\n",
       "      <th></th>\n",
       "      <th></th>\n",
       "      <th></th>\n",
       "      <th></th>\n",
       "    </tr>\n",
       "  </thead>\n",
       "  <tbody>\n",
       "    <tr>\n",
       "      <th>2020-12-31</th>\n",
       "      <td>3733.27</td>\n",
       "      <td>3760.20</td>\n",
       "      <td>3726.88</td>\n",
       "      <td>3756.07</td>\n",
       "      <td>1658919486</td>\n",
       "    </tr>\n",
       "    <tr>\n",
       "      <th>2020-12-30</th>\n",
       "      <td>3736.19</td>\n",
       "      <td>3744.63</td>\n",
       "      <td>3730.21</td>\n",
       "      <td>3732.04</td>\n",
       "      <td>1559327835</td>\n",
       "    </tr>\n",
       "    <tr>\n",
       "      <th>2020-12-29</th>\n",
       "      <td>3750.01</td>\n",
       "      <td>3756.12</td>\n",
       "      <td>3723.31</td>\n",
       "      <td>3727.04</td>\n",
       "      <td>1638287436</td>\n",
       "    </tr>\n",
       "    <tr>\n",
       "      <th>2020-12-28</th>\n",
       "      <td>3723.03</td>\n",
       "      <td>3740.51</td>\n",
       "      <td>3723.03</td>\n",
       "      <td>3735.36</td>\n",
       "      <td>1662609796</td>\n",
       "    </tr>\n",
       "    <tr>\n",
       "      <th>2020-12-24</th>\n",
       "      <td>3694.03</td>\n",
       "      <td>3703.82</td>\n",
       "      <td>3689.32</td>\n",
       "      <td>3703.06</td>\n",
       "      <td>818784928</td>\n",
       "    </tr>\n",
       "    <tr>\n",
       "      <th>...</th>\n",
       "      <td>...</td>\n",
       "      <td>...</td>\n",
       "      <td>...</td>\n",
       "      <td>...</td>\n",
       "      <td>...</td>\n",
       "    </tr>\n",
       "    <tr>\n",
       "      <th>2020-01-08</th>\n",
       "      <td>3238.59</td>\n",
       "      <td>3267.07</td>\n",
       "      <td>3236.67</td>\n",
       "      <td>3253.05</td>\n",
       "      <td>2067161111</td>\n",
       "    </tr>\n",
       "    <tr>\n",
       "      <th>2020-01-07</th>\n",
       "      <td>3241.86</td>\n",
       "      <td>3244.91</td>\n",
       "      <td>3232.43</td>\n",
       "      <td>3237.18</td>\n",
       "      <td>1900211111</td>\n",
       "    </tr>\n",
       "    <tr>\n",
       "      <th>2020-01-06</th>\n",
       "      <td>3217.55</td>\n",
       "      <td>3246.84</td>\n",
       "      <td>3214.64</td>\n",
       "      <td>3246.28</td>\n",
       "      <td>2041150000</td>\n",
       "    </tr>\n",
       "    <tr>\n",
       "      <th>2020-01-03</th>\n",
       "      <td>3226.36</td>\n",
       "      <td>3246.15</td>\n",
       "      <td>3222.34</td>\n",
       "      <td>3234.85</td>\n",
       "      <td>1922938889</td>\n",
       "    </tr>\n",
       "    <tr>\n",
       "      <th>2020-01-02</th>\n",
       "      <td>3244.67</td>\n",
       "      <td>3258.14</td>\n",
       "      <td>3235.53</td>\n",
       "      <td>3257.85</td>\n",
       "      <td>1921250000</td>\n",
       "    </tr>\n",
       "  </tbody>\n",
       "</table>\n",
       "<p>253 rows × 5 columns</p>\n",
       "</div>"
      ],
      "text/plain": [
       "               Open     High      Low    Close      Volume\n",
       "Date                                                      \n",
       "2020-12-31  3733.27  3760.20  3726.88  3756.07  1658919486\n",
       "2020-12-30  3736.19  3744.63  3730.21  3732.04  1559327835\n",
       "2020-12-29  3750.01  3756.12  3723.31  3727.04  1638287436\n",
       "2020-12-28  3723.03  3740.51  3723.03  3735.36  1662609796\n",
       "2020-12-24  3694.03  3703.82  3689.32  3703.06   818784928\n",
       "...             ...      ...      ...      ...         ...\n",
       "2020-01-08  3238.59  3267.07  3236.67  3253.05  2067161111\n",
       "2020-01-07  3241.86  3244.91  3232.43  3237.18  1900211111\n",
       "2020-01-06  3217.55  3246.84  3214.64  3246.28  2041150000\n",
       "2020-01-03  3226.36  3246.15  3222.34  3234.85  1922938889\n",
       "2020-01-02  3244.67  3258.14  3235.53  3257.85  1921250000\n",
       "\n",
       "[253 rows x 5 columns]"
      ]
     },
     "execution_count": 8,
     "metadata": {},
     "output_type": "execute_result"
    }
   ],
   "source": [
    "sp = web.DataReader('^SPX', 'stooq', start='2020-01-01', end='2020-12-31')\n",
    "sp"
   ]
  },
  {
   "cell_type": "markdown",
   "id": "4f9a94c5",
   "metadata": {},
   "source": [
    "### Manual Calculation\n",
    "Let's focus on the open prices. For showing the details in calculation, I will first manually compute the four moments, after which I will show how to use methods in `pandas` and `scipy.stats` to get them quickly.\n",
    "\n",
    "We first calculate the mean of the open prices (denoted by $X$) by\n",
    "$$\\overline{X} = \\frac{1}{n} \\sum_{i=1}^n X_i$$\n",
    "where $n$ denotes the number of observations. Then, population and sample variance are calculated by the following formulae, respectively:\n",
    "$$\\sigma^2 = \\frac{1}{n} \\sum_{i=1}^n \\left(X_i - \\overline{X}\\right)^2 \\quad\\text{and}\\quad s^2 = \\frac{1}{n-1} \\sum_{i=1}^n \\left(X_i - \\overline{X}\\right)^2$$\n",
    "The sample variance is corrected for bias by degree-of-freedom adjustment."
   ]
  },
  {
   "cell_type": "code",
   "execution_count": 9,
   "id": "438ad56a",
   "metadata": {},
   "outputs": [
    {
     "name": "stdout",
     "output_type": "stream",
     "text": [
      "For the open price for the S&P 500 Index in 2020, its mean is 3217.7503, population variance is 100954.3432, and sample variance is 101354.9557.\n"
     ]
    }
   ],
   "source": [
    "mean = sum(sp['Open']) / len(sp.index)\n",
    "\n",
    "dev2 = (sp['Open'] - mean)**2\n",
    "\n",
    "# Population variance and standard deviation\n",
    "pop_var = sum(dev2) / len(sp.index)\n",
    "pop_std = np.sqrt(pop_var)\n",
    "\n",
    "# Sample variance and standard deviation\n",
    "spl_var = sum(dev2) / (len(sp.index) - 1)\n",
    "spl_std = np.sqrt(spl_var)\n",
    "\n",
    "print('For the open price for the S&P 500 Index in 2020, its mean is {0:9.4f}, population variance is {1:10.4f}, and sample variance is {2:9.4f}.'.format(mean, pop_var, spl_var))"
   ]
  },
  {
   "cell_type": "markdown",
   "id": "aac638dc",
   "metadata": {},
   "source": [
    "The calculation becomes more complicated for sample skewness and sample kurtosis. For skewness, an intuitive but biased estimator is\n",
    "$$g_1 = \\frac{\\frac{1}{n} \\sum_{i=1}^n \\left(X_i - \\overline{X}\\right)^3}{\\left[\\frac{1}{n} \\sum_{i=1}^n \\left(X_i - \\overline{X}\\right)^2\\right]^{\\frac{3}{2}}}$$\n",
    "A common (but not always) corrected-for-bias estimator is\n",
    "$$G_1 = \\frac{\\sqrt{n(n-1)}}{n-2} \\cdot g_1$$\n",
    "Note that the estimator $G_1$ is unbiased for skewness only when the random variable follows a normal distribution."
   ]
  },
  {
   "cell_type": "code",
   "execution_count": 10,
   "id": "26c46511",
   "metadata": {},
   "outputs": [
    {
     "name": "stdout",
     "output_type": "stream",
     "text": [
      "The biased sample skewness is -0.692858, and the corrected-for-bias sample skewness is -0.696997.\n"
     ]
    }
   ],
   "source": [
    "dev3 = (sp['Open'] - mean)**3\n",
    "\n",
    "skew_bias = sum(dev3) / len(sp.index) / (pop_std**3)\n",
    "skew_correct = np.sqrt(len(sp.index)*(len(sp.index)-1)) / (len(sp.index)-2) * skew_bias\n",
    "print('The biased sample skewness is {0:9.6f}, and the corrected-for-bias sample skewness is {1:9.6f}.'.format(skew_bias, skew_correct))"
   ]
  },
  {
   "cell_type": "markdown",
   "id": "6ab7842e",
   "metadata": {},
   "source": [
    "For kurtosis, an intuitive but biased estimator is\n",
    "$$g_2 = \\frac{\\frac{1}{n} \\sum_{i=1}^n \\left(X_i - \\overline{X}\\right)^4}{\\left[\\frac{1}{n} \\sum_{i=1}^n \\left(X_i - \\overline{X}\\right)^2\\right]^2}$$\n",
    "A corrected-for-bias estimator is\n",
    "$$G_2 = \\frac{(n-1)(n+1)}{(n-2)(n-3)} g_2 + 3\\left[1 - \\frac{(n-1)^2}{(n-2)(n-3)}\\right]$$\n",
    "Similarly, this estimator ($G_2$) is also unbiased only when the random variable follows a normal distribution."
   ]
  },
  {
   "cell_type": "code",
   "execution_count": 11,
   "id": "99f415cb",
   "metadata": {},
   "outputs": [
    {
     "name": "stdout",
     "output_type": "stream",
     "text": [
      "The biased sample kurtosis is 3.100869, and the corrected-for-bias sample kurtosis is 3.126987.\n"
     ]
    }
   ],
   "source": [
    "dev4 = (sp['Open'] - mean)**4\n",
    "\n",
    "kurt_bias = sum(dev4) / len(sp.index) / (pop_std**4)\n",
    "kurt_correct = (len(sp.index)-1) * (len(sp.index)+1) / ((len(sp.index)-2)*(len(sp.index)-3)) * kurt_bias + 3*(1 - ((len(sp.index)-1)**2)/(len(sp.index)-2)/(len(sp.index)-3))\n",
    "print('The biased sample kurtosis is {0:8.6f}, and the corrected-for-bias sample kurtosis is {1:8.6f}.'.format(kurt_bias, kurt_correct))"
   ]
  },
  {
   "cell_type": "markdown",
   "id": "b38e15ab",
   "metadata": {},
   "source": [
    "### Calculating Moments by `pandas`\n",
    "As of now, we've seen how to compute the four moments by comlicated algebra. Fortunately, methods in `pandas` and `scipy.stats` packages can save our time in computation.\n",
    "\n",
    "Let's focus on the `pandas` at first. Note that\n",
    "* The methods `var()`, `skew()`, and `kurt()` return corrected-for-bias estimates.\n",
    "* The method `kurt()` computes the excess kurtosis."
   ]
  },
  {
   "cell_type": "code",
   "execution_count": 12,
   "id": "00218d29",
   "metadata": {},
   "outputs": [
    {
     "name": "stdout",
     "output_type": "stream",
     "text": [
      "The sample moments of the open prices of S&P 500 Index are\n",
      "  Mean: 3217.750277\n",
      "  Variance: 101354.955719\n",
      "  Skewness: -0.696997\n",
      "  Kurtosis:  0.126987\n"
     ]
    }
   ],
   "source": [
    "print('The sample moments of the open prices of S&P 500 Index are')\n",
    "print('  Mean: {0:9.6f}'.format(sp['Open'].mean()))\n",
    "print('  Variance: {0:9.6f}'.format(sp['Open'].var()))\n",
    "print('  Skewness: {0:9.6f}'.format(sp['Open'].skew()))\n",
    "print('  Kurtosis: {0:9.6f}'.format(sp['Open'].kurt()))"
   ]
  },
  {
   "cell_type": "markdown",
   "id": "d8b6134b",
   "metadata": {},
   "source": [
    "We can get these moments (with sample standard deviation) at once by using the `agg()` method."
   ]
  },
  {
   "cell_type": "code",
   "execution_count": 13,
   "id": "23d0d792",
   "metadata": {},
   "outputs": [
    {
     "data": {
      "text/plain": [
       "mean      3217.750277\n",
       "var     101354.955719\n",
       "std        318.362931\n",
       "skew        -0.696997\n",
       "kurt         0.126987\n",
       "Name: Open, dtype: float64"
      ]
     },
     "execution_count": 13,
     "metadata": {},
     "output_type": "execute_result"
    }
   ],
   "source": [
    "sp['Open'].agg(['mean', 'var', 'std', 'skew', 'kurt'])"
   ]
  },
  {
   "cell_type": "markdown",
   "id": "84474157",
   "metadata": {},
   "source": [
    "### Calculating Moments by `scipy.stats`\n",
    "The `scipy.stats` package has two methods (`skew()` and `kurtosis()`) for computing sample skewness and kurtosis respectively. Compared with those methods in `pandas`, these two methods are more flexible:\n",
    "* We can select whether to correct for bias.\n",
    "* We can select to compute the kurtosis (Pearson) or the excess kurtosis (Fisher)."
   ]
  },
  {
   "cell_type": "code",
   "execution_count": 14,
   "id": "539078a0",
   "metadata": {},
   "outputs": [
    {
     "name": "stdout",
     "output_type": "stream",
     "text": [
      "Biased sample skewness: -0.692858\n",
      "Corrected sample skewness: -0.696997\n",
      "Biased sample kurtosis: 3.100869\n",
      "Corrected sample kurtosis: 3.126987\n",
      "Biased sample excess kurtosis: 0.100869\n",
      "Corrected sample excess kurtosis: 0.126987\n"
     ]
    }
   ],
   "source": [
    "print('Biased sample skewness: {0:8.6f}'.format(stats.skew(sp['Open'], bias=True)))\n",
    "print('Corrected sample skewness: {0:8.6f}'.format(stats.skew(sp['Open'], bias=False)))\n",
    "print('Biased sample kurtosis: {0:8.6f}'.format(stats.kurtosis(sp['Open'], fisher=False, bias=True)))\n",
    "print('Corrected sample kurtosis: {0:8.6f}'.format(stats.kurtosis(sp['Open'], fisher=False, bias=False)))\n",
    "print('Biased sample excess kurtosis: {0:8.6f}'.format(stats.kurtosis(sp['Open'], fisher=True, bias=True)))\n",
    "print('Corrected sample excess kurtosis: {0:8.6f}'.format(stats.kurtosis(sp['Open'], fisher=True, bias=False)))"
   ]
  },
  {
   "cell_type": "markdown",
   "id": "12d2d8a4",
   "metadata": {},
   "source": [
    "We can also get the summary statistics at once by using the `describe()` method. As above, the `bias` argument allows us to use the biased or corrected-for-bias estimation. Also note that the reported \"kurtosis\" is actually \"excess kurtosis\"."
   ]
  },
  {
   "cell_type": "code",
   "execution_count": 15,
   "id": "a29c2f88",
   "metadata": {},
   "outputs": [
    {
     "data": {
      "text/plain": [
       "DescribeResult(nobs=253, minmax=(2290.71, 3750.01), mean=3217.750276679842, variance=101354.95571936759, skewness=-0.6969968577449013, kurtosis=0.12698651844837272)"
      ]
     },
     "execution_count": 15,
     "metadata": {},
     "output_type": "execute_result"
    }
   ],
   "source": [
    "stats.describe(sp['Open'], bias=False)"
   ]
  }
 ],
 "metadata": {
  "kernelspec": {
   "display_name": "Python 3 (ipykernel)",
   "language": "python",
   "name": "python3"
  },
  "language_info": {
   "codemirror_mode": {
    "name": "ipython",
    "version": 3
   },
   "file_extension": ".py",
   "mimetype": "text/x-python",
   "name": "python",
   "nbconvert_exporter": "python",
   "pygments_lexer": "ipython3",
   "version": "3.10.9"
  }
 },
 "nbformat": 4,
 "nbformat_minor": 5
}
